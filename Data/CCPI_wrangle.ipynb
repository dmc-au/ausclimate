{
 "cells": [
  {
   "cell_type": "code",
   "execution_count": 178,
   "metadata": {},
   "outputs": [],
   "source": [
    "import re\n",
    "import glob\n",
    "import csv\n",
    "import logging\n",
    "import os\n",
    "import sys"
   ]
  },
  {
   "cell_type": "code",
   "execution_count": 179,
   "metadata": {},
   "outputs": [],
   "source": [
    "# Set up the logger\n",
    "log_dir = 'logs/'\n",
    "log_name = 'CCPI_wrangle.log'\n",
    "if not os.path.exists(log_dir): os.makedirs(log_dir)\n",
    "log_format = \"%(levelname)s %(asctime)s - %(message)s\"\n",
    "logging.basicConfig(\n",
    "    level=logging.INFO,\n",
    "    format=log_format,\n",
    "    handlers=[\n",
    "        logging.FileHandler(f'{log_dir}{log_name}', mode='w'),\n",
    "        logging.StreamHandler(sys.stdout)\n",
    "    ]\n",
    ")\n",
    "logger = logging.getLogger()"
   ]
  },
  {
   "cell_type": "code",
   "execution_count": 180,
   "metadata": {},
   "outputs": [
    {
     "data": {
      "text/plain": [
       "['./CCPI/texts/2016.txt',\n",
       " './CCPI/texts/2017.txt',\n",
       " './CCPI/texts/2015.txt',\n",
       " './CCPI/texts/2014.txt',\n",
       " './CCPI/texts/2010.txt',\n",
       " './CCPI/texts/2011.txt',\n",
       " './CCPI/texts/2007.txt',\n",
       " './CCPI/texts/2013.txt',\n",
       " './CCPI/texts/2012.txt',\n",
       " './CCPI/texts/2022.txt',\n",
       " './CCPI/texts/2008.txt',\n",
       " './CCPI/texts/2020.txt',\n",
       " './CCPI/texts/2021.txt',\n",
       " './CCPI/texts/2009.txt',\n",
       " './CCPI/texts/2019.txt',\n",
       " './CCPI/texts/2018.txt']"
      ]
     },
     "execution_count": 180,
     "metadata": {},
     "output_type": "execute_result"
    }
   ],
   "source": [
    "filenames = glob.glob('./CCPI/texts/*.txt')\n",
    "filenames"
   ]
  },
  {
   "cell_type": "code",
   "execution_count": 200,
   "metadata": {},
   "outputs": [],
   "source": [
    "YEARS = [\n",
    "    '2008','2009','2010','2011','2012',\n",
    "    '2013','2014','2015','2016','2017',\n",
    "    '2018','2019','2020','2021','2022'\n",
    "]"
   ]
  },
  {
   "cell_type": "code",
   "execution_count": 199,
   "metadata": {},
   "outputs": [],
   "source": [
    "with open('./CCPI/ccpi.csv', 'w') as w:\n",
    "    for file in filenames:\n",
    "        year = re.findall('([0-9]+)', file)\n",
    "\n",
    "        with open(file) as r:\n",
    "            lines = r.readlines()\n",
    "            \n",
    "            for line in lines:\n",
    "                # Remove newlines and commas\n",
    "                data = line.strip('\\n')\n",
    "                data = data.replace(',','')\n",
    "\n",
    "                # Remove any '.' that has a number before it but not after\n",
    "                data = re.sub(r'(?<=\\d)(\\.)(?!\\d)', '', data)\n",
    "\n",
    "                # Remove any '.' that neither has number before nor after\n",
    "                data = re.sub(r'(?<!\\d)(\\.)(?!\\d)', '', data)\n",
    "\n",
    "                # Replace any space not after or before any digit with a comma\n",
    "                data = re.sub(r'(?<=\\d)( )|( )(?=\\d)', ',', data)\n",
    "\n",
    "                # Replace any space before a minus sign with a comma\n",
    "                data = re.sub(r'( )(?=\\-)', ',', data)\n",
    "\n",
    "                w.write(f'{year[0]},{data}\\n')\n",
    "\n",
    "                "
   ]
  },
  {
   "cell_type": "code",
   "execution_count": null,
   "metadata": {},
   "outputs": [],
   "source": []
  }
 ],
 "metadata": {
  "kernelspec": {
   "display_name": "Python 3.9.13 64-bit",
   "language": "python",
   "name": "python3"
  },
  "language_info": {
   "codemirror_mode": {
    "name": "ipython",
    "version": 3
   },
   "file_extension": ".py",
   "mimetype": "text/x-python",
   "name": "python",
   "nbconvert_exporter": "python",
   "pygments_lexer": "ipython3",
   "version": "3.9.13"
  },
  "orig_nbformat": 4,
  "vscode": {
   "interpreter": {
    "hash": "b0fa6594d8f4cbf19f97940f81e996739fb7646882a419484c72d19e05852a7e"
   }
  }
 },
 "nbformat": 4,
 "nbformat_minor": 2
}
