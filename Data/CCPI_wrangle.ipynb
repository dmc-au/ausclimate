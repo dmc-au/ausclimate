{
 "cells": [
  {
   "cell_type": "code",
   "execution_count": 241,
   "metadata": {},
   "outputs": [],
   "source": [
    "import re\n",
    "import glob\n",
    "import csv\n",
    "import logging\n",
    "import os\n",
    "import sys\n",
    "import pandas as pd\n",
    "import matplotlib.pyplot as plt"
   ]
  },
  {
   "cell_type": "code",
   "execution_count": 232,
   "metadata": {},
   "outputs": [],
   "source": [
    "# Set up the logger\n",
    "log_dir = 'logs/'\n",
    "log_name = 'CCPI_wrangle.log'\n",
    "if not os.path.exists(log_dir): os.makedirs(log_dir)\n",
    "log_format = \"%(levelname)s %(asctime)s - %(message)s\"\n",
    "logging.basicConfig(\n",
    "    level=logging.INFO,\n",
    "    format=log_format,\n",
    "    handlers=[\n",
    "        logging.FileHandler(f'{log_dir}{log_name}', mode='w'),\n",
    "        logging.StreamHandler(sys.stdout)\n",
    "    ]\n",
    ")\n",
    "logger = logging.getLogger()"
   ]
  },
  {
   "cell_type": "code",
   "execution_count": 233,
   "metadata": {},
   "outputs": [
    {
     "data": {
      "text/plain": [
       "['./CCPI/texts/2016.txt',\n",
       " './CCPI/texts/2017.txt',\n",
       " './CCPI/texts/2015.txt',\n",
       " './CCPI/texts/2014.txt',\n",
       " './CCPI/texts/2010.txt',\n",
       " './CCPI/texts/2011.txt',\n",
       " './CCPI/texts/2007.txt',\n",
       " './CCPI/texts/2013.txt',\n",
       " './CCPI/texts/2012.txt',\n",
       " './CCPI/texts/2022.txt',\n",
       " './CCPI/texts/2008.txt',\n",
       " './CCPI/texts/2020.txt',\n",
       " './CCPI/texts/2021.txt',\n",
       " './CCPI/texts/2009.txt',\n",
       " './CCPI/texts/2019.txt',\n",
       " './CCPI/texts/2018.txt']"
      ]
     },
     "execution_count": 233,
     "metadata": {},
     "output_type": "execute_result"
    }
   ],
   "source": [
    "filenames = glob.glob('./CCPI/texts/*.txt')\n",
    "filenames"
   ]
  },
  {
   "cell_type": "code",
   "execution_count": 234,
   "metadata": {},
   "outputs": [],
   "source": [
    "YEARS = [\n",
    "    '2008','2009','2010','2011','2012',\n",
    "    '2013','2014','2015','2016','2017',\n",
    "    '2018','2019','2020','2021','2022'\n",
    "]"
   ]
  },
  {
   "cell_type": "code",
   "execution_count": 235,
   "metadata": {},
   "outputs": [],
   "source": [
    "with open('./CCPI/ccpi.csv', 'w') as w:\n",
    "    w.write('Year,Rank,Country,Index\\n')\n",
    "    for file in filenames:\n",
    "        year = re.findall('([0-9]+)', file)\n",
    "\n",
    "        with open(file) as r:\n",
    "            lines = r.readlines()\n",
    "            \n",
    "            for line in lines:\n",
    "                # Skip lines with no letters\n",
    "                if not re.findall('[a-zA-Z]', line):\n",
    "                    continue\n",
    "\n",
    "                # Remove newlines and commas\n",
    "                data = line.strip('\\n')\n",
    "                data = data.replace(',','')\n",
    "\n",
    "                # Remove any '.' that has a number before it but not after\n",
    "                data = re.sub(r'(?<=\\d)(\\.)(?!\\d)', '', data)\n",
    "\n",
    "                # Remove any '.' that neither has number before nor after\n",
    "                data = re.sub(r'(?<!\\d)(\\.)(?!\\d)', '', data)\n",
    "\n",
    "                # Replace any space not after or before any digit with a comma\n",
    "                data = re.sub(r'(?<=\\d)( )|( )(?=\\d)', ',', data)\n",
    "\n",
    "                # Replace any space before a minus sign with a comma\n",
    "                data = re.sub(r'( )(?=\\-)', ',', data)\n",
    "\n",
    "                w.write(f'{year[0]},{data}\\n')\n",
    "\n",
    "                "
   ]
  },
  {
   "cell_type": "code",
   "execution_count": 238,
   "metadata": {},
   "outputs": [],
   "source": [
    "df = pd.read_csv(\"./CCPI/ccpi.csv\")"
   ]
  },
  {
   "cell_type": "code",
   "execution_count": 256,
   "metadata": {},
   "outputs": [
    {
     "data": {
      "text/html": [
       "<div>\n",
       "<style scoped>\n",
       "    .dataframe tbody tr th:only-of-type {\n",
       "        vertical-align: middle;\n",
       "    }\n",
       "\n",
       "    .dataframe tbody tr th {\n",
       "        vertical-align: top;\n",
       "    }\n",
       "\n",
       "    .dataframe thead th {\n",
       "        text-align: right;\n",
       "    }\n",
       "</style>\n",
       "<table border=\"1\" class=\"dataframe\">\n",
       "  <thead>\n",
       "    <tr style=\"text-align: right;\">\n",
       "      <th></th>\n",
       "      <th>Year</th>\n",
       "      <th>Rank</th>\n",
       "      <th>Country</th>\n",
       "      <th>Index</th>\n",
       "    </tr>\n",
       "  </thead>\n",
       "  <tbody>\n",
       "    <tr>\n",
       "      <th>392</th>\n",
       "      <td>2007</td>\n",
       "      <td>47</td>\n",
       "      <td>Australia</td>\n",
       "      <td>-0.45</td>\n",
       "    </tr>\n",
       "    <tr>\n",
       "      <th>632</th>\n",
       "      <td>2008</td>\n",
       "      <td>54</td>\n",
       "      <td>Australia</td>\n",
       "      <td>35.50</td>\n",
       "    </tr>\n",
       "    <tr>\n",
       "      <th>802</th>\n",
       "      <td>2009</td>\n",
       "      <td>55</td>\n",
       "      <td>Australia</td>\n",
       "      <td>41.70</td>\n",
       "    </tr>\n",
       "    <tr>\n",
       "      <th>285</th>\n",
       "      <td>2010</td>\n",
       "      <td>57</td>\n",
       "      <td>Australia</td>\n",
       "      <td>41.90</td>\n",
       "    </tr>\n",
       "    <tr>\n",
       "      <th>343</th>\n",
       "      <td>2011</td>\n",
       "      <td>58</td>\n",
       "      <td>Australia</td>\n",
       "      <td>42.90</td>\n",
       "    </tr>\n",
       "    <tr>\n",
       "      <th>504</th>\n",
       "      <td>2012</td>\n",
       "      <td>48</td>\n",
       "      <td>Australia</td>\n",
       "      <td>49.80</td>\n",
       "    </tr>\n",
       "    <tr>\n",
       "      <th>438</th>\n",
       "      <td>2013</td>\n",
       "      <td>40</td>\n",
       "      <td>Australia</td>\n",
       "      <td>55.39</td>\n",
       "    </tr>\n",
       "    <tr>\n",
       "      <th>227</th>\n",
       "      <td>2014</td>\n",
       "      <td>57</td>\n",
       "      <td>Australia</td>\n",
       "      <td>41.53</td>\n",
       "    </tr>\n",
       "    <tr>\n",
       "      <th>172</th>\n",
       "      <td>2015</td>\n",
       "      <td>60</td>\n",
       "      <td>Australia</td>\n",
       "      <td>35.57</td>\n",
       "    </tr>\n",
       "    <tr>\n",
       "      <th>55</th>\n",
       "      <td>2016</td>\n",
       "      <td>59</td>\n",
       "      <td>Australia</td>\n",
       "      <td>36.56</td>\n",
       "    </tr>\n",
       "    <tr>\n",
       "      <th>111</th>\n",
       "      <td>2017</td>\n",
       "      <td>57</td>\n",
       "      <td>Australia</td>\n",
       "      <td>40.66</td>\n",
       "    </tr>\n",
       "    <tr>\n",
       "      <th>918</th>\n",
       "      <td>2018</td>\n",
       "      <td>57</td>\n",
       "      <td>Australia</td>\n",
       "      <td>25.03</td>\n",
       "    </tr>\n",
       "    <tr>\n",
       "      <th>859</th>\n",
       "      <td>2019</td>\n",
       "      <td>55</td>\n",
       "      <td>Australia</td>\n",
       "      <td>31.27</td>\n",
       "    </tr>\n",
       "    <tr>\n",
       "      <th>687</th>\n",
       "      <td>2020</td>\n",
       "      <td>56</td>\n",
       "      <td>Australia</td>\n",
       "      <td>30.75</td>\n",
       "    </tr>\n",
       "    <tr>\n",
       "      <th>743</th>\n",
       "      <td>2021</td>\n",
       "      <td>54</td>\n",
       "      <td>Australia</td>\n",
       "      <td>28.82</td>\n",
       "    </tr>\n",
       "    <tr>\n",
       "      <th>573</th>\n",
       "      <td>2022</td>\n",
       "      <td>59</td>\n",
       "      <td>Australia</td>\n",
       "      <td>30.06</td>\n",
       "    </tr>\n",
       "  </tbody>\n",
       "</table>\n",
       "</div>"
      ],
      "text/plain": [
       "     Year  Rank    Country  Index\n",
       "392  2007    47  Australia  -0.45\n",
       "632  2008    54  Australia  35.50\n",
       "802  2009    55  Australia  41.70\n",
       "285  2010    57  Australia  41.90\n",
       "343  2011    58  Australia  42.90\n",
       "504  2012    48  Australia  49.80\n",
       "438  2013    40  Australia  55.39\n",
       "227  2014    57  Australia  41.53\n",
       "172  2015    60  Australia  35.57\n",
       "55   2016    59  Australia  36.56\n",
       "111  2017    57  Australia  40.66\n",
       "918  2018    57  Australia  25.03\n",
       "859  2019    55  Australia  31.27\n",
       "687  2020    56  Australia  30.75\n",
       "743  2021    54  Australia  28.82\n",
       "573  2022    59  Australia  30.06"
      ]
     },
     "execution_count": 256,
     "metadata": {},
     "output_type": "execute_result"
    }
   ],
   "source": [
    "aus = df[df.Country == 'Australia'].sort_values(by=['Year'])\n",
    "aus.to_csv('./CCPI/aus.csv', index=False)\n",
    "aus"
   ]
  },
  {
   "cell_type": "code",
   "execution_count": 261,
   "metadata": {},
   "outputs": [
    {
     "data": {
      "image/png": "[encoded data removed]",
      "text/plain": [
       "<Figure size 432x288 with 1 Axes>"
      ]
     },
     "metadata": {
      "needs_background": "light"
     },
     "output_type": "display_data"
    }
   ],
   "source": [
    "plt.plot(aus['Year'], aus['Rank'])\n",
    "plt.title(\"Australia's Climate Rank\")\n",
    "plt.gca().invert_yaxis()"
   ]
  }
 ],
 "metadata": {
  "kernelspec": {
   "display_name": "Python 3.9.13 64-bit",
   "language": "python",
   "name": "python3"
  },
  "language_info": {
   "codemirror_mode": {
    "name": "ipython",
    "version": 3
   },
   "file_extension": ".py",
   "mimetype": "text/x-python",
   "name": "python",
   "nbconvert_exporter": "python",
   "pygments_lexer": "ipython3",
   "version": "3.9.13"
  },
  "orig_nbformat": 4,
  "vscode": {
   "interpreter": {
    "hash": "b0fa6594d8f4cbf19f97940f81e996739fb7646882a419484c72d19e05852a7e"
   }
  }
 },
 "nbformat": 4,
 "nbformat_minor": 2
}
