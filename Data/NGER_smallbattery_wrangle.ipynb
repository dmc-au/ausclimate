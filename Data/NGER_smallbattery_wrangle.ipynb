{
 "cells": [
  {
   "cell_type": "code",
   "execution_count": 9,
   "metadata": {},
   "outputs": [],
   "source": [
    "import numpy as np\n",
    "import pandas as pd\n",
    "import matplotlib as mpl\n",
    "from matplotlib import pyplot as plt"
   ]
  },
  {
   "cell_type": "code",
   "execution_count": 10,
   "metadata": {},
   "outputs": [],
   "source": [
    "remove_space_and_comma = lambda x: (x.strip().replace(',',''))"
   ]
  },
  {
   "cell_type": "code",
   "execution_count": 11,
   "metadata": {},
   "outputs": [
    {
     "data": {
      "text/html": [
       "<div>\n",
       "<style scoped>\n",
       "    .dataframe tbody tr th:only-of-type {\n",
       "        vertical-align: middle;\n",
       "    }\n",
       "\n",
       "    .dataframe tbody tr th {\n",
       "        vertical-align: top;\n",
       "    }\n",
       "\n",
       "    .dataframe thead th {\n",
       "        text-align: right;\n",
       "    }\n",
       "</style>\n",
       "<table border=\"1\" class=\"dataframe\">\n",
       "  <thead>\n",
       "    <tr style=\"text-align: right;\">\n",
       "      <th></th>\n",
       "      <th>Installation year</th>\n",
       "      <th>ACT</th>\n",
       "      <th>NSW</th>\n",
       "      <th>NT</th>\n",
       "      <th>QLD</th>\n",
       "      <th>SA</th>\n",
       "      <th>TAS</th>\n",
       "      <th>VIC</th>\n",
       "      <th>WA</th>\n",
       "      <th>Total</th>\n",
       "    </tr>\n",
       "  </thead>\n",
       "  <tbody>\n",
       "    <tr>\n",
       "      <th>0</th>\n",
       "      <td>2014</td>\n",
       "      <td>8</td>\n",
       "      <td>208</td>\n",
       "      <td>3</td>\n",
       "      <td>129</td>\n",
       "      <td>34</td>\n",
       "      <td>5</td>\n",
       "      <td>137</td>\n",
       "      <td>169</td>\n",
       "      <td>693</td>\n",
       "    </tr>\n",
       "    <tr>\n",
       "      <th>1</th>\n",
       "      <td>2015</td>\n",
       "      <td>3</td>\n",
       "      <td>133</td>\n",
       "      <td>1</td>\n",
       "      <td>186</td>\n",
       "      <td>21</td>\n",
       "      <td>6</td>\n",
       "      <td>163</td>\n",
       "      <td>24</td>\n",
       "      <td>537</td>\n",
       "    </tr>\n",
       "    <tr>\n",
       "      <th>2</th>\n",
       "      <td>2016</td>\n",
       "      <td>105</td>\n",
       "      <td>668</td>\n",
       "      <td>6</td>\n",
       "      <td>331</td>\n",
       "      <td>130</td>\n",
       "      <td>18</td>\n",
       "      <td>240</td>\n",
       "      <td>70</td>\n",
       "      <td>1568</td>\n",
       "    </tr>\n",
       "    <tr>\n",
       "      <th>3</th>\n",
       "      <td>2017</td>\n",
       "      <td>205</td>\n",
       "      <td>1942</td>\n",
       "      <td>18</td>\n",
       "      <td>856</td>\n",
       "      <td>479</td>\n",
       "      <td>93</td>\n",
       "      <td>845</td>\n",
       "      <td>212</td>\n",
       "      <td>4650</td>\n",
       "    </tr>\n",
       "    <tr>\n",
       "      <th>4</th>\n",
       "      <td>2018</td>\n",
       "      <td>308</td>\n",
       "      <td>1876</td>\n",
       "      <td>8</td>\n",
       "      <td>1119</td>\n",
       "      <td>616</td>\n",
       "      <td>164</td>\n",
       "      <td>1362</td>\n",
       "      <td>236</td>\n",
       "      <td>5689</td>\n",
       "    </tr>\n",
       "    <tr>\n",
       "      <th>5</th>\n",
       "      <td>2019</td>\n",
       "      <td>337</td>\n",
       "      <td>1503</td>\n",
       "      <td>22</td>\n",
       "      <td>2711</td>\n",
       "      <td>2292</td>\n",
       "      <td>94</td>\n",
       "      <td>1288</td>\n",
       "      <td>316</td>\n",
       "      <td>8563</td>\n",
       "    </tr>\n",
       "    <tr>\n",
       "      <th>6</th>\n",
       "      <td>2020</td>\n",
       "      <td>379</td>\n",
       "      <td>1852</td>\n",
       "      <td>148</td>\n",
       "      <td>957</td>\n",
       "      <td>3737</td>\n",
       "      <td>103</td>\n",
       "      <td>1531</td>\n",
       "      <td>782</td>\n",
       "      <td>9489</td>\n",
       "    </tr>\n",
       "    <tr>\n",
       "      <th>7</th>\n",
       "      <td>2021</td>\n",
       "      <td>517</td>\n",
       "      <td>2749</td>\n",
       "      <td>388</td>\n",
       "      <td>1426</td>\n",
       "      <td>3294</td>\n",
       "      <td>124</td>\n",
       "      <td>2998</td>\n",
       "      <td>1613</td>\n",
       "      <td>13109</td>\n",
       "    </tr>\n",
       "    <tr>\n",
       "      <th>8</th>\n",
       "      <td>2022</td>\n",
       "      <td>645</td>\n",
       "      <td>1838</td>\n",
       "      <td>286</td>\n",
       "      <td>1292</td>\n",
       "      <td>2195</td>\n",
       "      <td>90</td>\n",
       "      <td>2545</td>\n",
       "      <td>1491</td>\n",
       "      <td>10382</td>\n",
       "    </tr>\n",
       "  </tbody>\n",
       "</table>\n",
       "</div>"
      ],
      "text/plain": [
       "  Installation year  ACT  NSW   NT   QLD    SA  TAS   VIC     WA  Total\n",
       "0              2014    8   208    3   129    34    5   137   169    693\n",
       "1              2015    3   133    1   186    21    6   163    24    537\n",
       "2              2016  105   668    6   331   130   18   240    70   1568\n",
       "3              2017  205  1942   18   856   479   93   845   212   4650\n",
       "4              2018  308  1876    8  1119   616  164  1362   236   5689\n",
       "5              2019  337  1503   22  2711  2292   94  1288   316   8563\n",
       "6              2020  379  1852  148   957  3737  103  1531   782   9489\n",
       "7              2021  517  2749  388  1426  3294  124  2998  1613  13109\n",
       "8              2022  645  1838  286  1292  2195   90  2545  1491  10382"
      ]
     },
     "execution_count": 11,
     "metadata": {},
     "output_type": "execute_result"
    }
   ],
   "source": [
    "# Dataframe definition\n",
    "df = pd.read_csv(\n",
    "    \"./NGER/Small Scale/State data for battery installations with small-scale systems.csv\",\n",
    "    encoding=\"ISO-8859-1\",\n",
    "    converters={\n",
    "        \"Installation year\": remove_space_and_comma,\n",
    "        \"ACT\": remove_space_and_comma,\n",
    "        \"NSW \": remove_space_and_comma,\n",
    "        \"NT \": remove_space_and_comma,\n",
    "        \"QLD \": remove_space_and_comma,\n",
    "        \"SA \": remove_space_and_comma,\n",
    "        \"TAS \": remove_space_and_comma,\n",
    "        \"VIC \": remove_space_and_comma,\n",
    "        \"WA\": remove_space_and_comma,\n",
    "        \"Total\": remove_space_and_comma,\n",
    "    }\n",
    ")\n",
    "df.to_csv('./NGER/Small Scale/smallscale_battery_numeric.csv')\n",
    "df\n",
    "# df.columns"
   ]
  },
  {
   "cell_type": "code",
   "execution_count": 12,
   "metadata": {},
   "outputs": [
    {
     "data": {
      "text/plain": [
       "Text(0.5, 1.0, 'No. New Small Scale Battery Installations')"
      ]
     },
     "execution_count": 12,
     "metadata": {},
     "output_type": "execute_result"
    },
    {
     "data": {
      "image/png": "[encoded data removed]",
      "text/plain": [
       "<Figure size 432x288 with 1 Axes>"
      ]
     },
     "metadata": {
      "needs_background": "light"
     },
     "output_type": "display_data"
    }
   ],
   "source": [
    "plt.clf()\n",
    "plt.bar(df['Installation year'].astype(int), df['Total'].astype(int))\n",
    "plt.title('No. New Small Scale Battery Installations')"
   ]
  }
 ],
 "metadata": {
  "kernelspec": {
   "display_name": "Python 3.9.13 64-bit",
   "language": "python",
   "name": "python3"
  },
  "language_info": {
   "codemirror_mode": {
    "name": "ipython",
    "version": 3
   },
   "file_extension": ".py",
   "mimetype": "text/x-python",
   "name": "python",
   "nbconvert_exporter": "python",
   "pygments_lexer": "ipython3",
   "version": "3.9.13"
  },
  "orig_nbformat": 4,
  "vscode": {
   "interpreter": {
    "hash": "b0fa6594d8f4cbf19f97940f81e996739fb7646882a419484c72d19e05852a7e"
   }
  }
 },
 "nbformat": 4,
 "nbformat_minor": 2
}
