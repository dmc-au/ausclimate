{
 "cells": [
  {
   "cell_type": "code",
   "execution_count": 1,
   "metadata": {},
   "outputs": [],
   "source": [
    "import numpy as np\n",
    "import pandas as pd\n",
    "import matplotlib as mpl\n",
    "from matplotlib import pyplot as plt"
   ]
  },
  {
   "cell_type": "code",
   "execution_count": 2,
   "metadata": {},
   "outputs": [],
   "source": [
    "remove_space_and_comma = lambda x: (x.strip().replace(',',''))"
   ]
  },
  {
   "cell_type": "code",
   "execution_count": 3,
   "metadata": {},
   "outputs": [
    {
     "data": {
      "text/plain": [
       "Year            int64\n",
       "Hydro          object\n",
       "Solar           int64\n",
       "Wind           object\n",
       "Solar Water     int64\n",
       "Total           int64\n",
       "dtype: object"
      ]
     },
     "execution_count": 3,
     "metadata": {},
     "output_type": "execute_result"
    }
   ],
   "source": [
    "# Dataframe definition\n",
    "from sqlalchemy import false\n",
    "\n",
    "\n",
    "df = pd.read_csv(\n",
    "    \"./NGER/Small Scale/smallscale_renewables.csv\",\n",
    "    encoding=\"ISO-8859-1\",\n",
    "    # converters={\n",
    "    #     \"Installation year\": remove_space_and_comma,\n",
    "    #     \"ACT\": remove_space_and_comma,\n",
    "    #     \"NSW \": remove_space_and_comma,\n",
    "    #     \"NT \": remove_space_and_comma,\n",
    "    #     \"QLD \": remove_space_and_comma,\n",
    "    #     \"SA \": remove_space_and_comma,\n",
    "    #     \"TAS \": remove_space_and_comma,\n",
    "    #     \"VIC \": remove_space_and_comma,\n",
    "    #     \"WA\": remove_space_and_comma,\n",
    "    #     \"Total\": remove_space_and_comma,\n",
    "    # }\n",
    ")\n",
    "# df.to_csv('./NGER/Small Scale/smallscale_renewables2.csv', index=False)\n",
    "df.dtypes"
   ]
  },
  {
   "cell_type": "code",
   "execution_count": 4,
   "metadata": {},
   "outputs": [
    {
     "data": {
      "text/plain": [
       "Text(0.5, 1.0, 'No. New Small Scale Battery Installations')"
      ]
     },
     "execution_count": 4,
     "metadata": {},
     "output_type": "execute_result"
    },
    {
     "data": {
      "image/png": "[encoded data removed]",
      "text/plain": [
       "<Figure size 432x288 with 1 Axes>"
      ]
     },
     "metadata": {
      "needs_background": "light"
     },
     "output_type": "display_data"
    }
   ],
   "source": [
    "plt.clf()\n",
    "plt.bar(df['Year'].astype(int), df['Solar'].astype(int))\n",
    "plt.title('No. New Small Scale Battery Installations')"
   ]
  }
 ],
 "metadata": {
  "kernelspec": {
   "display_name": "Python 3.9.13 64-bit",
   "language": "python",
   "name": "python3"
  },
  "language_info": {
   "codemirror_mode": {
    "name": "ipython",
    "version": 3
   },
   "file_extension": ".py",
   "mimetype": "text/x-python",
   "name": "python",
   "nbconvert_exporter": "python",
   "pygments_lexer": "ipython3",
   "version": "3.9.13"
  },
  "orig_nbformat": 4,
  "vscode": {
   "interpreter": {
    "hash": "b0fa6594d8f4cbf19f97940f81e996739fb7646882a419484c72d19e05852a7e"
   }
  }
 },
 "nbformat": 4,
 "nbformat_minor": 2
}
